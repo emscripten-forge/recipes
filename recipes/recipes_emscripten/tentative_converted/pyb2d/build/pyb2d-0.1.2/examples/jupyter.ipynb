{
 "cells": [
  {
   "cell_type": "code",
   "execution_count": 2,
   "id": "00cd4547-2bb3-4fb2-aeda-196f6460ef7a",
   "metadata": {},
   "outputs": [
    {
     "name": "stdout",
     "output_type": "stream",
     "text": [
      "gauss_machine\n"
     ]
    },
    {
     "data": {
      "application/vnd.jupyter.widget-view+json": {
       "model_id": "96bd56945213440db1d3b599f16f15df",
       "version_major": 2,
       "version_minor": 0
      },
      "text/plain": [
       "Output()"
      ]
     },
     "metadata": {},
     "output_type": "display_data"
    },
    {
     "data": {
      "text/plain": [
       "(<gauss_machine.GaussMachine at 0x7f1af89a3270>,\n",
       " <b2d.testbed.backend.jupyter.jupyter_gui.JupyterGui at 0x7f1b202b2eb0>)"
      ]
     },
     "execution_count": 2,
     "metadata": {},
     "output_type": "execute_result"
    }
   ],
   "source": [
    "from gauss_machine import GaussMachine  as Example\n",
    "from b2d.testbed.backend.jupyter import JupyterGui\n",
    "res = (400,400)\n",
    "gui_settings = {\n",
    "    \"fps\" : 30,\n",
    "    \"scale\" : 10,\n",
    "    \"translate\" : (50, 370),\n",
    "    \"resolution\" :res,\n",
    "    \"line_width\": 3,\n",
    "    \"id\": \"gauss_machine\"\n",
    "}\n",
    "Example.run(JupyterGui, gui_settings=gui_settings)"
   ]
  },
  {
   "cell_type": "code",
   "execution_count": 2,
   "id": "bbb421bb-5263-49fc-8cfa-9d3ceca47c12",
   "metadata": {},
   "outputs": [
    {
     "name": "stdout",
     "output_type": "stream",
     "text": [
      "color_mixing\n"
     ]
    },
    {
     "data": {
      "application/vnd.jupyter.widget-view+json": {
       "model_id": "cb0ee9664f2e461fa148c1bdaeb3c576",
       "version_major": 2,
       "version_minor": 0
      },
      "text/plain": [
       "Output()"
      ]
     },
     "metadata": {},
     "output_type": "display_data"
    },
    {
     "data": {
      "text/plain": [
       "(<color_mixing.ColorMixing at 0x7fa73e6203b0>,\n",
       " <b2d.testbed.backend.jupyter.jupyter_gui.JupyterGui at 0x7fa7a44ebac0>)"
      ]
     },
     "execution_count": 2,
     "metadata": {},
     "output_type": "execute_result"
    }
   ],
   "source": [
    "from color_mixing import ColorMixing  as Example\n",
    "from b2d.testbed.backend.jupyter import JupyterGui\n",
    "res = (400,400)\n",
    "gui_settings = {\n",
    "    \"fps\" : 30,\n",
    "    \"scale\" : 30,\n",
    "    \"translate\" : (50, 370),\n",
    "    \"resolution\" :res,\n",
    "    \"line_width\": 3,\n",
    "    \"id\": \"color_mixing\"\n",
    "}\n",
    "Example.run(JupyterGui, gui_settings=gui_settings)"
   ]
  }
 ],
 "metadata": {
  "kernelspec": {
   "display_name": "Python 3 (ipykernel)",
   "language": "python",
   "name": "python3"
  },
  "language_info": {
   "codemirror_mode": {
    "name": "ipython",
    "version": 3
   },
   "file_extension": ".py",
   "mimetype": "text/x-python",
   "name": "python",
   "nbconvert_exporter": "python",
   "pygments_lexer": "ipython3",
   "version": "3.9.7"
  }
 },
 "nbformat": 4,
 "nbformat_minor": 5
}
